{
 "cells": [
  {
   "cell_type": "code",
   "execution_count": 1,
   "id": "5e34ccd9",
   "metadata": {},
   "outputs": [
    {
     "name": "stdout",
     "output_type": "stream",
     "text": [
      "   row_key     user_id           timestamp                    url    country  \\\n",
      "0        1  2QnVrm6s8E 2023-01-01 00:00:00  http://example.com/10   Country8   \n",
      "1        2  iOdfnVVrrf 2023-01-01 00:00:01  http://example.com/95   Country9   \n",
      "2        3  z2suyP3vhb 2023-01-01 00:00:02  http://example.com/62   Country1   \n",
      "3        4  fosvhEfa2C 2023-01-01 00:00:03  http://example.com/70   Country3   \n",
      "4        5  dSvxQDnyjX 2023-01-01 00:00:04  http://example.com/27  Country10   \n",
      "\n",
      "     city   browser   os   device  \n",
      "0   City8  Browser5  OS3  Device2  \n",
      "1  City15  Browser4  OS1  Device1  \n",
      "2   City2  Browser4  OS3  Device2  \n",
      "3  City11  Browser3  OS2  Device2  \n",
      "4  City15  Browser1  OS3  Device2  \n"
     ]
    }
   ],
   "source": [
    "import pandas as pd\n",
    "import random\n",
    "import string\n",
    "\n",
    "num_rows = 1000\n",
    "\n",
    "# Generated random Data\n",
    "click_data = pd.DataFrame({\n",
    "    'row_key': range(1, num_rows + 1),\n",
    "    'user_id': [''.join(random.choices(string.ascii_letters + string.digits, k=10)) for _ in range(num_rows)],\n",
    "    'timestamp': pd.date_range(start='2023-01-01', periods=num_rows, freq='S'),\n",
    "    'url': ['http://example.com/' + str(random.randint(1, 100)) for _ in range(num_rows)]\n",
    "})\n",
    "\n",
    "geo_data = pd.DataFrame({\n",
    "    'row_key': range(1, num_rows + 1),\n",
    "    'country': ['Country' + str(random.randint(1, 10)) for _ in range(num_rows)],\n",
    "    'city': ['City' + str(random.randint(1, 20)) for _ in range(num_rows)]\n",
    "})\n",
    "\n",
    "user_agent_data = pd.DataFrame({\n",
    "    'row_key': range(1, num_rows + 1),\n",
    "    'browser': ['Browser' + str(random.randint(1, 5)) for _ in range(num_rows)],\n",
    "    'os': ['OS' + str(random.randint(1, 3)) for _ in range(num_rows)],\n",
    "    'device': ['Device' + str(random.randint(1, 2)) for _ in range(num_rows)]\n",
    "})\n",
    "\n",
    "# Merged all df\n",
    "clickstream_data = click_data.merge(geo_data, on='row_key').merge(user_agent_data, on='row_key')\n",
    "\n",
    "print(clickstream_data.head())"
   ]
  },
  {
   "cell_type": "code",
   "execution_count": null,
   "id": "7d385cb1",
   "metadata": {},
   "outputs": [],
   "source": []
  }
 ],
 "metadata": {
  "kernelspec": {
   "display_name": "Python 3 (ipykernel)",
   "language": "python",
   "name": "python3"
  },
  "language_info": {
   "codemirror_mode": {
    "name": "ipython",
    "version": 3
   },
   "file_extension": ".py",
   "mimetype": "text/x-python",
   "name": "python",
   "nbconvert_exporter": "python",
   "pygments_lexer": "ipython3",
   "version": "3.10.9"
  }
 },
 "nbformat": 4,
 "nbformat_minor": 5
}
